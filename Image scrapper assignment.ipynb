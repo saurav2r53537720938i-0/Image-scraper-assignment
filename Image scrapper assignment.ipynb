{
 "cells": [
  {
   "cell_type": "code",
   "execution_count": 2,
   "id": "84ae8120-e732-492c-9415-76b3ee58b584",
   "metadata": {},
   "outputs": [
    {
     "ename": "IndentationError",
     "evalue": "unindent does not match any outer indentation level (<tokenize>, line 17)",
     "output_type": "error",
     "traceback": [
      "\u001b[0;36m  File \u001b[0;32m<tokenize>:17\u001b[0;36m\u001b[0m\n\u001b[0;31m    break\u001b[0m\n\u001b[0m    ^\u001b[0m\n\u001b[0;31mIndentationError\u001b[0m\u001b[0;31m:\u001b[0m unindent does not match any outer indentation level\n"
     ]
    }
   ],
   "source": [
    "import request\n",
    "from bs4 import Beautifulsoup\n",
    "\n",
    "def get_video_urls(url,num_videos=5):\n",
    "    response = request.get(url)\n",
    "    soup = Beautifulsoup(response.text,'html.parser')\n",
    "    \n",
    "    video_urls = []\n",
    "    \n",
    "    # Assuming the video URLs are in anchor tags with 'href'attribute\n",
    "    for a_tag in soup.find_all('a',href = True):\n",
    "        \n",
    "    video_urls.append(a_tag['href'])\n",
    "    \n",
    "               if len(video_urls) == num_videos:\n",
    "            \n",
    "              break\n",
    "                \n",
    "        return video_urls\n",
    "    \n",
    "# Replace 'your'_website_url_here'\n",
    "with the actual URL of the page\n",
    "contaning video links\n",
    "video_urls = get_video_urls('your_website_url_here',num_videos=5)\n",
    "\n",
    "print(\"First 5 video URLs:\")\n",
    "for i,url in enumerate(video_urls,start=1):\n",
    "    print(f\"{i}. {url}:\")"
   ]
  },
  {
   "cell_type": "code",
   "execution_count": 4,
   "id": "86b9348b-6a62-4502-a773-1b5522943817",
   "metadata": {},
   "outputs": [
    {
     "ename": "SyntaxError",
     "evalue": "invalid syntax (1286388283.py, line 11)",
     "output_type": "error",
     "traceback": [
      "\u001b[0;36m  Cell \u001b[0;32mIn[4], line 11\u001b[0;36m\u001b[0m\n\u001b[0;31m    for img_tag in\u001b[0m\n\u001b[0m                   ^\u001b[0m\n\u001b[0;31mSyntaxError\u001b[0m\u001b[0;31m:\u001b[0m invalid syntax\n"
     ]
    }
   ],
   "source": [
    "import request\n",
    "from bs4 import Beautifulsoup\n",
    "\n",
    "def get_video_thumbnail_urls(url,num_thumbnail=5):\n",
    "    response = request.get(url)\n",
    "    soup = Beautifulsoup(response.text,'html.parser')\n",
    "    \n",
    "    thumbnail_urls = []\n",
    "    \n",
    "    # Assuming the video thumbnails are in image tags with 'src'attribute\n",
    "    for img_tag in \n",
    "    soup.find_all('img',src=True):\n",
    "        if 'youtube.com' in\n",
    "        img_tag['src'] and 'hqdefault.jpg'\n",
    "        in img_tag['src']:\n",
    "            \n",
    "    thumbnail_urls.append(img_tag['src'])\n",
    "        \n",
    "            if len(thumbnail_urls)\n",
    "            == num_thumbnails:\n",
    "                break\n",
    "                return thumbnail_urls\n",
    "            \n",
    "    # Replace 'your_website_url_here' with the actual URL of the page containing video thumbnail\n",
    "    thumbnail_urls = get_video_thumbnail_urls('your_webs ite_url_here', num_thumbnail=5)\n",
    "    \n",
    "    print(\"First 5 video thumbnail URLs:\")\n",
    "    for i,url in\n",
    "    enumerate(thumbnail_urls,start=1):\n",
    "        print(f\"{i}.{url}\")"
   ]
  },
  {
   "cell_type": "code",
   "execution_count": 5,
   "id": "0f6a1f65-af11-4cea-866b-e5f80d8878a0",
   "metadata": {},
   "outputs": [
    {
     "ename": "SyntaxError",
     "evalue": "unterminated string literal (detected at line 19) (1422340368.py, line 19)",
     "output_type": "error",
     "traceback": [
      "\u001b[0;36m  Cell \u001b[0;32mIn[5], line 19\u001b[0;36m\u001b[0m\n\u001b[0;31m    https://www.youtube.com/watch?v=xmN7C2FScIM=video1',\u001b[0m\n\u001b[0m                                                      ^\u001b[0m\n\u001b[0;31mSyntaxError\u001b[0m\u001b[0;31m:\u001b[0m unterminated string literal (detected at line 19)\n"
     ]
    }
   ],
   "source": [
    "import youtube_dl\n",
    "\n",
    "def extract_titles(video_urls):\n",
    "    titles = []\n",
    "    \n",
    "    for url in video_urls:\n",
    "        with youtube_dl.YoutubeDL()as ydl:\n",
    "            \n",
    "            info_dict = ydl.extract_info(url,download=False)\n",
    "            title = info_dict.get('title',None)\n",
    "            if title:\n",
    "                \n",
    "titles.append(title)\n",
    "\n",
    "return titles\n",
    "\n",
    "# Example usage\n",
    "video_urls = [\n",
    "    https://www.youtube.com/watch?v=xmN7C2FScIM=video1',\n",
    "    \n",
    "    https://www.youtube.com/watch?v=MOGAG_tieck=video2',\n",
    "    \n",
    "    https://www.youtube.com/watch?v=MNc_i8Dskcs=video3',\n",
    "    \n",
    "    https://www.youtube.com/watch?v=A6arNus4QwM=video4',\n",
    "    \n",
    "    https://www.youtube.com/watch?v=ZLmJgjY8FOo=video5',\n",
    "]\n",
    "\n",
    "titles=  extract_titles(video_urls)\n",
    "for i, title in enumerate(titles,start=1):\n",
    "    print(f\"video {i}: {title}\")"
   ]
  },
  {
   "cell_type": "code",
   "execution_count": 7,
   "id": "a51939aa-cee0-461d-b53b-6717745d6e2d",
   "metadata": {},
   "outputs": [
    {
     "ename": "SyntaxError",
     "evalue": "unterminated string literal (detected at line 17) (4252792603.py, line 17)",
     "output_type": "error",
     "traceback": [
      "\u001b[0;36m  Cell \u001b[0;32mIn[7], line 17\u001b[0;36m\u001b[0m\n\u001b[0;31m    https://www.youtube.com/watch?v=xmN7C2FScIM=video1',\u001b[0m\n\u001b[0m                                                      ^\u001b[0m\n\u001b[0;31mSyntaxError\u001b[0m\u001b[0;31m:\u001b[0m unterminated string literal (detected at line 17)\n"
     ]
    }
   ],
   "source": [
    "def extract_views(video_urls):\n",
    "    views = []\n",
    "    \n",
    "    for url in video_urls:\n",
    "        with youtube_dl.YoutubeDL()as ydl:\n",
    "            \n",
    "            info_dict = ydl.extract_info(url,download=False)\n",
    "            view_count = info_dict.get('view_count',None)\n",
    "            if title:\n",
    "                \n",
    "views.append(view_count)\n",
    "\n",
    "return views\n",
    "\n",
    "# Example usage\n",
    "video_urls = [\n",
    "    https://www.youtube.com/watch?v=xmN7C2FScIM=video1',\n",
    "    \n",
    "    https://www.youtube.com/watch?v=MOGAG_tieck=video2',\n",
    "    \n",
    "    https://www.youtube.com/watch?v=MNc_i8Dskcs=video3',\n",
    "    \n",
    "    https://www.youtube.com/watch?v=A6arNus4QwM=video4',\n",
    "    \n",
    "    https://www.youtube.com/watch?v=ZLmJgjY8FOo=video5',\n",
    "]\n",
    "\n",
    "views=  extract_views(video_urls)\n",
    "for i, views_count in enumerate(views,start=1):\n",
    "    print(f\"video {i}: {views_count}\")"
   ]
  },
  {
   "cell_type": "code",
   "execution_count": null,
   "id": "05c74f74-bb2c-40ae-be41-329672cbf069",
   "metadata": {},
   "outputs": [],
   "source": [
    "def extract_posting_time(video_urls):\n",
    "    posting_times = []\n",
    "    \n",
    "    for url in video_urls:\n",
    "        with youtube_dl.YoutubeDL()as ydl:\n",
    "            \n",
    "            info_dict = ydl.extract_info(url,download=False)\n",
    "            posting_time = info_dict.get('view_count',None)\n",
    "            if title:\n",
    "                \n",
    "views.append(view_count)\n",
    "\n",
    "return views\n",
    "\n",
    "# Example usage\n",
    "video_urls = [\n",
    "    https://www.youtube.com/watch?v=xmN7C2FScIM=video1',\n",
    "    \n",
    "    https://www.youtube.com/watch?v=MOGAG_tieck=video2',\n",
    "    \n",
    "    https://www.youtube.com/watch?v=MNc_i8Dskcs=video3',\n",
    "    \n",
    "    https://www.youtube.com/watch?v=A6arNus4QwM=video4',\n",
    "    \n",
    "    https://www.youtube.com/watch?v=ZLmJgjY8FOo=video5',\n",
    "]\n",
    "\n",
    "views=  extract_views(video_urls)\n",
    "for i, views_count in enumerate(views,start=1):\n",
    "    print(f\"video {i}: {views_count}\")"
   ]
  }
 ],
 "metadata": {
  "kernelspec": {
   "display_name": "Python 3 (ipykernel)",
   "language": "python",
   "name": "python3"
  },
  "language_info": {
   "codemirror_mode": {
    "name": "ipython",
    "version": 3
   },
   "file_extension": ".py",
   "mimetype": "text/x-python",
   "name": "python",
   "nbconvert_exporter": "python",
   "pygments_lexer": "ipython3",
   "version": "3.10.8"
  }
 },
 "nbformat": 4,
 "nbformat_minor": 5
}
